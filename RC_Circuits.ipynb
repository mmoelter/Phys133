{
 "cells": [
  {
   "cell_type": "code",
   "execution_count": 8,
   "metadata": {},
   "outputs": [],
   "source": [
    "%matplotlib inline\n",
    "from ipywidgets import interactive\n",
    "import matplotlib.pyplot as plt\n",
    "import numpy as np\n",
    "plt.rcParams['font.size'] = 12"
   ]
  },
  {
   "cell_type": "markdown",
   "metadata": {},
   "source": [
    "RC Circuit Simulator\n",
    "===========\n",
    "This will demonstrate a simple $RC$ circuit that has a resistor, $R$, a capacitor, $C$, a switch, and a battery that provides the potential difference, $V_{batt}$. The capacitor is initially *uncharged*. The output shows the voltage across the resistor, the charge on the capacitor, and the current after the switch is closed at $t=0$ s.  You can vary the time constant, $\\tau$, the potential difference across the battery, $V_{batt}$, the resistance, $R$, and/or the capacitance, $C$.\n",
    "\n",
    "<img src=\"RCCircuit.png\" width=\"150\" height=\"150\" />\n",
    "\n",
    "The function below 'RC_Circuit_Voltage_Resistor' plots the voltage across the resistor, which is proportional to current."
   ]
  },
  {
   "cell_type": "code",
   "execution_count": 9,
   "metadata": {},
   "outputs": [],
   "source": [
    "def RC_Circuit_Voltage_Resistor(Vbatt, tau):\n",
    "    plt.figure(2,figsize = [6,6])\n",
    "    x = np.linspace(0, 40, num=40)\n",
    "    plt.plot(x, Vbatt*np.exp(-x/tau),'b')\n",
    "    plt.ylim(0, 12)\n",
    "    plt.xlabel('Time (s)')\n",
    "    plt.ylabel('Voltage (Volts)')\n",
    "    plt.title(\"Graph 1: $\\Delta V_R$\")\n",
    "    plt.grid(True)\n",
    "    plt.show()"
   ]
  },
  {
   "cell_type": "markdown",
   "metadata": {},
   "source": [
    "Graph 1: The voltage across the resistor, $\\Delta V_R$. \n",
    "--------------------------------------"
   ]
  },
  {
   "cell_type": "markdown",
   "metadata": {},
   "source": [
    "As you explore your circuit, a good strategy is to adjust only one variable at a time."
   ]
  },
  {
   "cell_type": "code",
   "execution_count": 10,
   "metadata": {},
   "outputs": [
    {
     "data": {
      "application/vnd.jupyter.widget-view+json": {
       "model_id": "1abe3b4f62c44c2bb8349f570c2d5f84",
       "version_major": 2,
       "version_minor": 0
      },
      "text/plain": [
       "interactive(children=(FloatSlider(value=5.0, description='Vbatt', max=10.0, step=1.0), FloatSlider(value=12.00…"
      ]
     },
     "metadata": {},
     "output_type": "display_data"
    }
   ],
   "source": [
    "interactive_plot = interactive(RC_Circuit_Voltage_Resistor, Vbatt=(0, 10.0,1), tau=(1e-4, 25, 1),\n",
    "                               continuous_update=False)\n",
    "output = interactive_plot.children[-1]\n",
    "output.layout.height = '600px'\n",
    "interactive_plot"
   ]
  },
  {
   "cell_type": "markdown",
   "metadata": {},
   "source": [
    "Graph 2: The current in the circuit, $I(t)$. \n",
    "--------\n",
    " \n",
    "     and \n",
    "\n",
    "Graph 3: The charge on the capacitor, $Q(t)$. \n",
    "--------"
   ]
  },
  {
   "cell_type": "markdown",
   "metadata": {},
   "source": [
    "The function 'RC_Circuit_CurrentCharge' plots the current in the circuit and the charge on the capacitor."
   ]
  },
  {
   "cell_type": "code",
   "execution_count": 11,
   "metadata": {},
   "outputs": [],
   "source": [
    "def RC_Circuit_CurrentCharge(Vbatt, R, C):\n",
    "    tau = R*C\n",
    "    I0 = Vbatt/R\n",
    "    Q0 = Vbatt * C\n",
    "    \n",
    "    plt.figure(2, figsize=(10,6))\n",
    "    x = np.linspace(0, 50, num=50)\n",
    "    \n",
    "    plt.subplot(1,2,1)\n",
    "    plt.plot(x, I0*np.exp(-x/tau),'b')\n",
    "    plt.ylim(0, 12)\n",
    "    plt.xlabel('Time (s)')\n",
    "    plt.ylabel('Current (A)')\n",
    "    plt.grid(True)\n",
    "    plt.title(\"Graph 2: Current\")\n",
    "    \n",
    "    plt.subplot(1,2,2)\n",
    "    plt.plot(x, Q0*(1-np.exp(-x/tau)),'r')\n",
    "    plt.ylim(0, 50)\n",
    "    plt.xlabel('Time (s)')\n",
    "    plt.ylabel('Charge (C)')\n",
    "    plt.grid(True)\n",
    "    plt.title(\"Graph 3: Charge\")\n",
    "    plt.show()"
   ]
  },
  {
   "cell_type": "markdown",
   "metadata": {},
   "source": [
    "As you explore your circuit, a good strategy is to adjust only one variable at a time."
   ]
  },
  {
   "cell_type": "code",
   "execution_count": 12,
   "metadata": {},
   "outputs": [
    {
     "data": {
      "application/vnd.jupyter.widget-view+json": {
       "model_id": "1fcb81f64eab4ff9ab47bc9e963657c9",
       "version_major": 2,
       "version_minor": 0
      },
      "text/plain": [
       "interactive(children=(FloatSlider(value=5.0, description='Vbatt', max=10.0, step=0.5), FloatSlider(value=2.41,…"
      ]
     },
     "metadata": {},
     "output_type": "display_data"
    }
   ],
   "source": [
    "interactive_plot = interactive(RC_Circuit_CurrentCharge, Vbatt=(0, 10.0,0.5), R=(0.01, 5, 0.1), C=(0.01, 4, 0.1),\n",
    "                               continuous_update=False)\n",
    "output = interactive_plot.children[-1]\n",
    "output.layout.height = '800px'\n",
    "interactive_plot"
   ]
  },
  {
   "cell_type": "code",
   "execution_count": null,
   "metadata": {},
   "outputs": [],
   "source": []
  },
  {
   "cell_type": "code",
   "execution_count": null,
   "metadata": {},
   "outputs": [],
   "source": []
  }
 ],
 "metadata": {
  "kernelspec": {
   "display_name": "Python 3",
   "language": "python",
   "name": "python3"
  },
  "language_info": {
   "codemirror_mode": {
    "name": "ipython",
    "version": 3
   },
   "file_extension": ".py",
   "mimetype": "text/x-python",
   "name": "python",
   "nbconvert_exporter": "python",
   "pygments_lexer": "ipython3",
   "version": "3.6.4"
  }
 },
 "nbformat": 4,
 "nbformat_minor": 2
}
